{
 "cells": [
  {
   "cell_type": "markdown",
   "id": "92f66f87",
   "metadata": {},
   "source": [
    "# ANÁLISE DA BASE DE DADOS ORIGINAL \n",
    "#### Neste notebook são apresentadas informações gerais sobre a base de dados, no caso a utilizada é a Complete_Pokedex_V1.1, bem como uma análise para compreendê-la melhor em sua forma original, ou seja, sem tratamentos aplicados aos dados."
   ]
  },
  {
   "cell_type": "markdown",
   "id": "faec3aca",
   "metadata": {},
   "source": [
    "## Informações Gerais\n",
    "#### Visualização dos dados da base de dados"
   ]
  },
  {
   "cell_type": "code",
   "execution_count": null,
   "id": "238bb6b6",
   "metadata": {
    "scrolled": true
   },
   "outputs": [
    {
     "name": "stdout",
     "output_type": "stream",
     "text": [
      "   pokedex_number   pokemon_name type_1  type_2  ability_1    ability_2  \\\n",
      "0               1      Bulbasaur  Grass  Poison   Overgrow  Chlorophyll   \n",
      "1               2        Ivysaur  Grass  Poison   Overgrow  Chlorophyll   \n",
      "2               3  Mega Venusaur  Grass  Poison  Thick Fat          NaN   \n",
      "3               3       Venusaur  Grass  Poison   Overgrow  Chlorophyll   \n",
      "4               3  Venusaur Gmax  Grass  Poison   Overgrow  Chlorophyll   \n",
      "\n",
      "  ability_3  number_pokemon_with_typing primary_color      shape  ...  \\\n",
      "0       NaN                          15         Green  Quadruped  ...   \n",
      "1       NaN                          15         Green  Quadruped  ...   \n",
      "2       NaN                          15         Green  Quadruped  ...   \n",
      "3       NaN                          15         Green  Quadruped  ...   \n",
      "4       NaN                          15         Green  Quadruped  ...   \n",
      "\n",
      "   against_ground  against_flying  against_psychic  against_bug  against_rock  \\\n",
      "0             1.0             2.0              2.0          1.0           1.0   \n",
      "1             1.0             2.0              2.0          1.0           1.0   \n",
      "2             1.0             2.0              2.0          1.0           1.0   \n",
      "3             1.0             2.0              2.0          1.0           1.0   \n",
      "4             1.0             2.0              2.0          1.0           1.0   \n",
      "\n",
      "   against_ghost  against_dragon  against_dark  against_steel  against_fairy  \n",
      "0            1.0             1.0           1.0            1.0            0.5  \n",
      "1            1.0             1.0           1.0            1.0            0.5  \n",
      "2            1.0             1.0           1.0            1.0            0.5  \n",
      "3            1.0             1.0           1.0            1.0            0.5  \n",
      "4            1.0             1.0           1.0            1.0            0.5  \n",
      "\n",
      "[5 rows x 63 columns]\n"
     ]
    }
   ],
   "source": [
    "import pandas as pd\n",
    "dataFrame = pd.read_csv(\"Complete_Pokedex_V1.1.csv\")\n",
    "print(dataFrame.head())"
   ]
  },
  {
   "cell_type": "markdown",
   "id": "fed17800",
   "metadata": {},
   "source": [
    "#### Infos básicas"
   ]
  },
  {
   "cell_type": "code",
   "execution_count": null,
   "id": "11bf0f50",
   "metadata": {},
   "outputs": [
    {
     "name": "stdout",
     "output_type": "stream",
     "text": [
      "---------------------------------------\n",
      "Total de linhas da base de dados: 1118\n",
      "---------------------------------------\n",
      "Total de colunas: 63\n",
      "---------------------------------------\n"
     ]
    }
   ],
   "source": [
    "import pandas as pd\n",
    "dataFrame = pd.read_csv(\"Complete_Pokedex_V1.1.csv\")\n",
    "\n",
    "print(\"---------------------------------------\")\n",
    "print(\"Total de linhas da base de dados:\", len(dataFrame))\n",
    "print(\"---------------------------------------\")\n",
    "print(\"Total de colunas:\", len(dataFrame.columns)) \n",
    "print(\"---------------------------------------\")"
   ]
  },
  {
   "cell_type": "markdown",
   "id": "dff42c25",
   "metadata": {},
   "source": [
    "## Análises da base de dados "
   ]
  },
  {
   "cell_type": "markdown",
   "id": "944ad29f",
   "metadata": {},
   "source": [
    "#### Gráfico de regressão"
   ]
  },
  {
   "cell_type": "code",
   "execution_count": null,
   "id": "91955a67-bbf8-4c70-994d-da40b5b30572",
   "metadata": {
    "scrolled": true
   },
   "outputs": [
    {
     "ename": "ModuleNotFoundError",
     "evalue": "No module named 'matplotlib'",
     "output_type": "error",
     "traceback": [
      "\u001b[31m---------------------------------------------------------------------------\u001b[39m",
      "\u001b[31mModuleNotFoundError\u001b[39m                       Traceback (most recent call last)",
      "\u001b[36mCell\u001b[39m\u001b[36m \u001b[39m\u001b[32mIn[3]\u001b[39m\u001b[32m, line 2\u001b[39m\n\u001b[32m      1\u001b[39m \u001b[38;5;66;03m# pip install matplotlib seaborn\u001b[39;00m\n\u001b[32m----> \u001b[39m\u001b[32m2\u001b[39m \u001b[38;5;28;01mimport\u001b[39;00m\u001b[38;5;250m \u001b[39m\u001b[34;01mmatplotlib\u001b[39;00m\u001b[34;01m.\u001b[39;00m\u001b[34;01mpyplot\u001b[39;00m\u001b[38;5;250m \u001b[39m\u001b[38;5;28;01mas\u001b[39;00m\u001b[38;5;250m \u001b[39m\u001b[34;01mplt\u001b[39;00m \u001b[38;5;66;03m# gerar\u001b[39;00m\n\u001b[32m      3\u001b[39m \u001b[38;5;28;01mimport\u001b[39;00m\u001b[38;5;250m \u001b[39m\u001b[34;01mseaborn\u001b[39;00m\u001b[38;5;250m \u001b[39m\u001b[38;5;28;01mas\u001b[39;00m\u001b[38;5;250m \u001b[39m\u001b[34;01msns\u001b[39;00m \u001b[38;5;66;03m# enfeitar\u001b[39;00m\n\u001b[32m      4\u001b[39m \u001b[38;5;28;01mimport\u001b[39;00m\u001b[38;5;250m \u001b[39m\u001b[34;01mpandas\u001b[39;00m\u001b[38;5;250m \u001b[39m\u001b[38;5;28;01mas\u001b[39;00m\u001b[38;5;250m \u001b[39m\u001b[34;01mpd\u001b[39;00m\n",
      "\u001b[31mModuleNotFoundError\u001b[39m: No module named 'matplotlib'"
     ]
    }
   ],
   "source": [
    "# pip install matplotlib seaborn\n",
    "import matplotlib.pyplot as plt # gerar\n",
    "import seaborn as sns # enfeitar\n",
    "import pandas as pd\n",
    "dataFrame = pd.read_csv(\"Complete_Pokedex_V1.1.csv\")\n",
    "\n",
    "\n"
   ]
  },
  {
   "cell_type": "markdown",
   "id": "a2e0a4e6",
   "metadata": {},
   "source": [
    "Explicação do gráfico....."
   ]
  },
  {
   "cell_type": "markdown",
   "id": "b1f026b8",
   "metadata": {},
   "source": [
    "#### Gráfico de Pizza"
   ]
  },
  {
   "cell_type": "code",
   "execution_count": null,
   "id": "33c19b3b-5798-4bbf-9cb2-cd211495319b",
   "metadata": {},
   "outputs": [
    {
     "ename": "AttributeError",
     "evalue": "'Series' object has no attribute 'categories'",
     "output_type": "error",
     "traceback": [
      "\u001b[31m---------------------------------------------------------------------------\u001b[39m",
      "\u001b[31mAttributeError\u001b[39m                            Traceback (most recent call last)",
      "\u001b[32m~\\AppData\\Local\\Temp\\ipykernel_17132\\1400878381.py\u001b[39m in \u001b[36m?\u001b[39m\u001b[34m()\u001b[39m\n\u001b[32m     23\u001b[39m     \u001b[38;5;66;03m# Conta quantos caem em cada intervalo\u001b[39;00m\n\u001b[32m     24\u001b[39m     counts = categorical.value_counts(sort=\u001b[38;5;28;01mFalse\u001b[39;00m).values\n\u001b[32m     25\u001b[39m \n\u001b[32m     26\u001b[39m     \u001b[38;5;66;03m# Converte os intervalos para string para usar no gráfico\u001b[39;00m\n\u001b[32m---> \u001b[39m\u001b[32m27\u001b[39m     intervals = [str(interval) \u001b[38;5;28;01mfor\u001b[39;00m interval \u001b[38;5;28;01min\u001b[39;00m categorical.categories]\n\u001b[32m     28\u001b[39m \n\u001b[32m     29\u001b[39m     \u001b[38;5;66;03m# Salva no dicionário\u001b[39;00m\n\u001b[32m     30\u001b[39m     stat_counts[stat] = (counts, intervals)\n",
      "\u001b[32mc:\\Users\\m4dud\\AppData\\Local\\Programs\\Python\\Python311\\Lib\\site-packages\\pandas\\core\\generic.py\u001b[39m in \u001b[36m?\u001b[39m\u001b[34m(self, name)\u001b[39m\n\u001b[32m   6314\u001b[39m             \u001b[38;5;28;01mand\u001b[39;00m name \u001b[38;5;28;01mnot\u001b[39;00m \u001b[38;5;28;01min\u001b[39;00m self._accessors\n\u001b[32m   6315\u001b[39m             \u001b[38;5;28;01mand\u001b[39;00m self._info_axis._can_hold_identifiers_and_holds_name(name)\n\u001b[32m   6316\u001b[39m         ):\n\u001b[32m   6317\u001b[39m             \u001b[38;5;28;01mreturn\u001b[39;00m self[name]\n\u001b[32m-> \u001b[39m\u001b[32m6318\u001b[39m         \u001b[38;5;28;01mreturn\u001b[39;00m object.__getattribute__(self, name)\n",
      "\u001b[31mAttributeError\u001b[39m: 'Series' object has no attribute 'categories'"
     ]
    }
   ],
   "source": [
    "import matplotlib.pyplot as plt\n",
    "import seaborn as sns\n",
    "import pandas as pd\n",
    "\n",
    "# Load CSV\n",
    "dataFrame = pd.read_csv(\"Complete_Pokedex_V1.1.csv\")\n",
    "\n",
    "# Columns we want to visualize\n",
    "stats = [\"attack\", \"defense\", \"speed\"]\n",
    "\n",
    "# Create a dictionary to hold counts per stat\n",
    "stat_counts = {}\n",
    "\n",
    "# Define bins for numeric stats\n",
    "bins = [0, 50, 100, 150, 200, 250, 300]  # adjust based on max stat\n",
    "\n",
    "for stat in stats:\n",
    "    # Count how many Pokémon fall into each bin\n",
    "    counts, bin_edges = pd.cut(dataFrame[stat], bins=bins, right=False, retbins=True).value_counts(sort=False).values, pd.cut(dataFrame[stat], bins=bins, right=False).categories\n",
    "    stat_counts[stat] = (counts, [str(interval) for interval in bin_edges])\n",
    "\n",
    "# Plot pie charts for each stat\n",
    "for stat in stats:\n",
    "    counts, labels = stat_counts[stat]\n",
    "    percentages = counts / counts.sum() * 100\n",
    "    colors = sns.color_palette(\"deep\", len(counts))\n",
    "    \n",
    "    plt.figure(figsize=(6,6))\n",
    "    plt.pie(counts, labels=[f\"{label}\\n{perc:.1f}%\" for label, perc in zip(labels, percentages)],\n",
    "            colors=colors, autopct='')\n",
    "    plt.title(f\"Distribuição de {stat.capitalize()}\")\n",
    "    plt.show()\n"
   ]
  },
  {
   "cell_type": "markdown",
   "id": "44470440",
   "metadata": {},
   "source": [
    "Explicação do gráfico....."
   ]
  },
  {
   "cell_type": "markdown",
   "id": "57cba9b1",
   "metadata": {},
   "source": [
    "#### Gráfico de Boxplot"
   ]
  },
  {
   "cell_type": "code",
   "execution_count": 27,
   "id": "0bed0d53",
   "metadata": {},
   "outputs": [
    {
     "data": {
      "image/png": "[encoded data removed]",
      "text/plain": [
       "<Figure size 640x480 with 1 Axes>"
      ]
     },
     "metadata": {},
     "output_type": "display_data"
    }
   ],
   "source": [
    "import matplotlib.pyplot as plt\n",
    "import seaborn as sns\n",
    "import pandas as pd\n",
    "dataFrame = pd.read_csv(\"Complete_Pokedex_V1.1.csv\")\n",
    "\n",
    "sns.boxplot(y=dataFrame[\"height\"], showfliers=False) # showfliers=False esconde os outliers do gráfico\n",
    "\n",
    "plt.title(\"Distribuição da altura dos pokémons\")\n",
    "plt.ylabel(\"Alturas\")\n",
    "plt.show()\n"
   ]
  },
  {
   "cell_type": "markdown",
   "id": "0ed3b126",
   "metadata": {},
   "source": [
    "Explicação do gráfico....."
   ]
  },
  {
   "cell_type": "markdown",
   "id": "e6eab84c",
   "metadata": {},
   "source": [
    "#### Gráfico de Histograma"
   ]
  },
  {
   "cell_type": "code",
   "execution_count": null,
   "id": "776c1a79",
   "metadata": {},
   "outputs": [],
   "source": [
    "import matplotlib.pyplot as plt\n",
    "import seaborn as sns\n",
    "import pandas as pd\n",
    "dataFrame = pd.read_csv(\"Complete_Pokedex_V1.1.csv\")"
   ]
  },
  {
   "cell_type": "markdown",
   "id": "3b22450b",
   "metadata": {},
   "source": [
    "Explicação do gráfico....."
   ]
  }
 ],
 "metadata": {
  "kernelspec": {
   "display_name": "Python 3",
   "language": "python",
   "name": "python3"
  },
  "language_info": {
   "codemirror_mode": {
    "name": "ipython",
    "version": 3
   },
   "file_extension": ".py",
   "mimetype": "text/x-python",
   "name": "python",
   "nbconvert_exporter": "python",
   "pygments_lexer": "ipython3",
   "version": "3.11.2"
  }
 },
 "nbformat": 4,
 "nbformat_minor": 5
}
