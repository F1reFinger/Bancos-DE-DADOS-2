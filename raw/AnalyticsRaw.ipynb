{
 "cells": [
  {
   "cell_type": "markdown",
   "id": "92f66f87",
   "metadata": {},
   "source": [
    "# ANÁLISE DA BASE DE DADOS ORIGINAL \n",
    "#### Neste notebook são apresentadas informações gerais sobre a base de dados, no caso a utilizada é a Complete_Pokedex_V1.1, bem como uma análise para compreendê-la melhor em sua forma original, ou seja, sem tratamentos aplicados aos dados."
   ]
  },
  {
   "cell_type": "markdown",
   "id": "faec3aca",
   "metadata": {},
   "source": [
    "## Informações Gerais\n",
    "#### Visualização dos dados da base de dados"
   ]
  },
  {
   "cell_type": "code",
   "execution_count": 103,
   "id": "238bb6b6",
   "metadata": {
    "scrolled": true
   },
   "outputs": [
    {
     "name": "stdout",
     "output_type": "stream",
     "text": [
      "   pokedex_number   pokemon_name type_1  type_2  ability_1    ability_2  \\\n",
      "0               1      Bulbasaur  Grass  Poison   Overgrow  Chlorophyll   \n",
      "1               2        Ivysaur  Grass  Poison   Overgrow  Chlorophyll   \n",
      "2               3  Mega Venusaur  Grass  Poison  Thick Fat          NaN   \n",
      "3               3       Venusaur  Grass  Poison   Overgrow  Chlorophyll   \n",
      "4               3  Venusaur Gmax  Grass  Poison   Overgrow  Chlorophyll   \n",
      "\n",
      "  ability_3  number_pokemon_with_typing primary_color      shape  height  \\\n",
      "0       NaN                          15         Green  Quadruped     0.7   \n",
      "1       NaN                          15         Green  Quadruped     1.0   \n",
      "2       NaN                          15         Green  Quadruped     2.4   \n",
      "3       NaN                          15         Green  Quadruped     2.0   \n",
      "4       NaN                          15         Green  Quadruped    24.0   \n",
      "\n",
      "    weight   bmi  hit_points  attack  defense  special_attack  \\\n",
      "0      6.9  14.1          45      49       49              65   \n",
      "1     13.0  13.0          60      62       63              80   \n",
      "2    155.5  27.0          80     100      123             122   \n",
      "3    100.0  25.0          80      82       83             100   \n",
      "4  10000.0  17.4          80      82       83             100   \n",
      "\n",
      "   special_defense  speed  total_stats    mean  standard_deviation  \\\n",
      "0               65     45          318   53.00                8.64   \n",
      "1               80     60          405   67.50                8.90   \n",
      "2              120     80          625  104.17               18.75   \n",
      "3              100     80          525   87.50                8.90   \n",
      "4              100     80          525   87.50                8.90   \n",
      "\n",
      "   capture_rate  generation  base_happiness  base_experience     exp_type  \\\n",
      "0            45           1              70               64  Medium Slow   \n",
      "1            45           1              70              142  Medium Slow   \n",
      "2            45           6              70              281  Medium Slow   \n",
      "3            45           1              70              236  Medium Slow   \n",
      "4            45           8              70              236  Medium Slow   \n",
      "\n",
      "   exp_to_level_100  can_evolve evolves_from  final_evolution  mega_evolution  \\\n",
      "0           1059860        True          NaN            False           False   \n",
      "1           1059860        True    Bulbasaur            False           False   \n",
      "2           1059860       False      Ivysaur             True            True   \n",
      "3           1059860       False      Ivysaur             True           False   \n",
      "4           1059860       False      Ivysaur            False           False   \n",
      "\n",
      "   is_default  baby_pokemon  alolan_form  galarian_form  forms_switchable  \\\n",
      "0        True         False        False          False             False   \n",
      "1        True         False        False          False             False   \n",
      "2       False         False        False          False              True   \n",
      "3        True         False        False          False              True   \n",
      "4       False         False        False          False              True   \n",
      "\n",
      "   legendary  mythical  genderless  female_rate  genus egg_group_1  \\\n",
      "0      False     False       False        0.125  Seed      Monster   \n",
      "1      False     False       False        0.125  Seed      Monster   \n",
      "2      False     False       False        0.125  Seed      Monster   \n",
      "3      False     False       False        0.125  Seed      Monster   \n",
      "4      False     False       False        0.125  Seed      Monster   \n",
      "\n",
      "  egg_group_2  egg_cycles  against_normal  against_fire  against_water  \\\n",
      "0       Grass          20             1.0           2.0            0.5   \n",
      "1       Grass          20             1.0           2.0            0.5   \n",
      "2       Grass          20             1.0           2.0            0.5   \n",
      "3       Grass          20             1.0           2.0            0.5   \n",
      "4       Grass          20             1.0           2.0            0.5   \n",
      "\n",
      "   against_electric  against_grass  against_ice  against_fighting  \\\n",
      "0               0.5           0.25          2.0               0.5   \n",
      "1               0.5           0.25          2.0               0.5   \n",
      "2               0.5           0.25          2.0               0.5   \n",
      "3               0.5           0.25          2.0               0.5   \n",
      "4               0.5           0.25          2.0               0.5   \n",
      "\n",
      "   against_poison  against_ground  against_flying  against_psychic  \\\n",
      "0             1.0             1.0             2.0              2.0   \n",
      "1             1.0             1.0             2.0              2.0   \n",
      "2             1.0             1.0             2.0              2.0   \n",
      "3             1.0             1.0             2.0              2.0   \n",
      "4             1.0             1.0             2.0              2.0   \n",
      "\n",
      "   against_bug  against_rock  against_ghost  against_dragon  against_dark  \\\n",
      "0          1.0           1.0            1.0             1.0           1.0   \n",
      "1          1.0           1.0            1.0             1.0           1.0   \n",
      "2          1.0           1.0            1.0             1.0           1.0   \n",
      "3          1.0           1.0            1.0             1.0           1.0   \n",
      "4          1.0           1.0            1.0             1.0           1.0   \n",
      "\n",
      "   against_steel  against_fairy  \n",
      "0            1.0            0.5  \n",
      "1            1.0            0.5  \n",
      "2            1.0            0.5  \n",
      "3            1.0            0.5  \n",
      "4            1.0            0.5  \n"
     ]
    }
   ],
   "source": [
    "import pandas as pd\n",
    "dataFrame = pd.read_csv(\"Complete_Pokedex_V1.1.csv\")\n",
    "print(dataFrame.head())"
   ]
  },
  {
   "cell_type": "markdown",
   "id": "fed17800",
   "metadata": {},
   "source": [
    "#### Infos básicas"
   ]
  },
  {
   "cell_type": "code",
   "execution_count": 104,
   "id": "11bf0f50",
   "metadata": {},
   "outputs": [
    {
     "name": "stdout",
     "output_type": "stream",
     "text": [
      "---------------------------------------\n",
      "Total de linhas da base de dados: 1118\n",
      "---------------------------------------\n",
      "Total de colunas: 63\n",
      "---------------------------------------\n"
     ]
    }
   ],
   "source": [
    "import pandas as pd\n",
    "dataFrame = pd.read_csv(\"Complete_Pokedex_V1.1.csv\")\n",
    "\n",
    "print(\"---------------------------------------\")\n",
    "print(\"Total de linhas da base de dados:\", len(dataFrame))\n",
    "print(\"---------------------------------------\")\n",
    "print(\"Total de colunas:\", len(dataFrame.columns)) \n",
    "print(\"---------------------------------------\")"
   ]
  },
  {
   "cell_type": "markdown",
   "id": "dff42c25",
   "metadata": {},
   "source": [
    "## Análises da base de dados "
   ]
  },
  {
   "cell_type": "markdown",
   "id": "944ad29f",
   "metadata": {},
   "source": [
    "#### Gráfico de regressão"
   ]
  },
  {
   "cell_type": "code",
   "execution_count": 105,
   "id": "91955a67-bbf8-4c70-994d-da40b5b30572",
   "metadata": {
    "scrolled": true
   },
   "outputs": [
    {
     "name": "stdout",
     "output_type": "stream",
     "text": [
      "Collecting matplotlib\n",
      "  Downloading matplotlib-3.10.6-cp311-cp311-win_amd64.whl (8.1 MB)\n",
      "     ---------------------------------------- 8.1/8.1 MB 1.4 MB/s eta 0:00:00\n",
      "Collecting seaborn\n",
      "  Downloading seaborn-0.13.2-py3-none-any.whl (294 kB)\n",
      "     -------------------------------------- 294.9/294.9 kB 1.4 MB/s eta 0:00:00\n",
      "Collecting contourpy>=1.0.1\n",
      "  Downloading contourpy-1.3.3-cp311-cp311-win_amd64.whl (225 kB)\n",
      "     -------------------------------------- 225.2/225.2 kB 1.4 MB/s eta 0:00:00\n",
      "Collecting cycler>=0.10\n",
      "  Downloading cycler-0.12.1-py3-none-any.whl (8.3 kB)\n",
      "Collecting fonttools>=4.22.0\n",
      "  Downloading fonttools-4.60.0-cp311-cp311-win_amd64.whl (2.3 MB)\n",
      "     ---------------------------------------- 2.3/2.3 MB 1.3 MB/s eta 0:00:00\n",
      "Collecting kiwisolver>=1.3.1\n",
      "  Downloading kiwisolver-1.4.9-cp311-cp311-win_amd64.whl (73 kB)\n",
      "     ---------------------------------------- 73.8/73.8 kB 1.4 MB/s eta 0:00:00\n",
      "Requirement already satisfied: numpy>=1.23 in c:\\users\\m4dud\\appdata\\local\\programs\\python\\python311\\lib\\site-packages (from matplotlib) (1.24.2)\n",
      "Requirement already satisfied: packaging>=20.0 in c:\\users\\m4dud\\appdata\\local\\programs\\python\\python311\\lib\\site-packages (from matplotlib) (25.0)\n",
      "Collecting pillow>=8\n",
      "  Downloading pillow-11.3.0-cp311-cp311-win_amd64.whl (7.0 MB)\n",
      "     ---------------------------------------- 7.0/7.0 MB 1.4 MB/s eta 0:00:00\n",
      "Collecting pyparsing>=2.3.1\n",
      "  Downloading pyparsing-3.2.4-py3-none-any.whl (113 kB)\n",
      "     ------------------------------------ 113.9/113.9 kB 510.5 kB/s eta 0:00:00\n",
      "Requirement already satisfied: python-dateutil>=2.7 in c:\\users\\m4dud\\appdata\\local\\programs\\python\\python311\\lib\\site-packages (from matplotlib) (2.8.2)\n",
      "Requirement already satisfied: pandas>=1.2 in c:\\users\\m4dud\\appdata\\local\\programs\\python\\python311\\lib\\site-packages (from seaborn) (1.5.3)\n",
      "Collecting numpy>=1.23\n",
      "  Downloading numpy-2.3.3-cp311-cp311-win_amd64.whl (13.1 MB)\n",
      "     ---------------------------------------- 13.1/13.1 MB 1.4 MB/s eta 0:00:00\n",
      "Requirement already satisfied: pytz>=2020.1 in c:\\users\\m4dud\\appdata\\local\\programs\\python\\python311\\lib\\site-packages (from pandas>=1.2->seaborn) (2022.7.1)\n",
      "Requirement already satisfied: six>=1.5 in c:\\users\\m4dud\\appdata\\local\\programs\\python\\python311\\lib\\site-packages (from python-dateutil>=2.7->matplotlib) (1.16.0)\n",
      "Installing collected packages: pyparsing, pillow, numpy, kiwisolver, fonttools, cycler, contourpy, matplotlib, seaborn\n",
      "  Attempting uninstall: numpy\n",
      "    Found existing installation: numpy 1.24.2\n",
      "    Uninstalling numpy-1.24.2:\n",
      "      Successfully uninstalled numpy-1.24.2\n"
     ]
    },
    {
     "name": "stderr",
     "output_type": "stream",
     "text": [
      "ERROR: Could not install packages due to an OSError: [WinError 5] Acesso negado: 'C:\\\\Users\\\\m4dud\\\\AppData\\\\Local\\\\Programs\\\\Python\\\\Python311\\\\Lib\\\\site-packages\\\\~umpy\\\\.libs\\\\libopenblas64__v0.3.21-gcc_10_3_0.dll'\n",
      "Consider using the `--user` option or check the permissions.\n",
      "\n",
      "\n",
      "[notice] A new release of pip available: 22.3.1 -> 25.2\n",
      "[notice] To update, run: python.exe -m pip install --upgrade pip\n"
     ]
    }
   ],
   "source": [
    "! pip install matplotlib seaborn\n",
    "import matplotlib.pyplot as plt\n",
    "import seaborn as sns\n",
    "import pandas as pd\n",
    "dataFrame = pd.read_csv(\"Complete_Pokedex_V1.1.csv\")\n",
    "\n",
    "\n"
   ]
  },
  {
   "cell_type": "markdown",
   "id": "a2e0a4e6",
   "metadata": {},
   "source": [
    "Explicação do gráfico....."
   ]
  },
  {
   "cell_type": "markdown",
   "id": "b1f026b8",
   "metadata": {},
   "source": [
    "#### Gráfico de Pizza"
   ]
  },
  {
   "cell_type": "code",
   "execution_count": null,
   "id": "33c19b3b-5798-4bbf-9cb2-cd211495319b",
   "metadata": {},
   "outputs": [],
   "source": [
    "import matplotlib.pyplot as plt\n",
    "import seaborn as sns\n",
    "import pandas as pd\n",
    "dataFrame = pd.read_csv(\"Complete_Pokedex_V1.1.csv\")"
   ]
  },
  {
   "cell_type": "markdown",
   "id": "44470440",
   "metadata": {},
   "source": [
    "Explicação do gráfico....."
   ]
  },
  {
   "cell_type": "markdown",
   "id": "57cba9b1",
   "metadata": {},
   "source": [
    "#### Gráfico de Boxplot"
   ]
  },
  {
   "cell_type": "code",
   "execution_count": null,
   "id": "0bed0d53",
   "metadata": {},
   "outputs": [],
   "source": [
    "import matplotlib.pyplot as plt\n",
    "import seaborn as sns\n",
    "import pandas as pd\n",
    "dataFrame = pd.read_csv(\"Complete_Pokedex_V1.1.csv\")"
   ]
  },
  {
   "cell_type": "markdown",
   "id": "0ed3b126",
   "metadata": {},
   "source": [
    "Explicação do gráfico....."
   ]
  },
  {
   "cell_type": "markdown",
   "id": "e6eab84c",
   "metadata": {},
   "source": [
    "#### Gráfico de Histograma"
   ]
  },
  {
   "cell_type": "code",
   "execution_count": null,
   "id": "776c1a79",
   "metadata": {},
   "outputs": [],
   "source": [
    "import matplotlib.pyplot as plt\n",
    "import seaborn as sns\n",
    "import pandas as pd\n",
    "dataFrame = pd.read_csv(\"Complete_Pokedex_V1.1.csv\")"
   ]
  },
  {
   "cell_type": "markdown",
   "id": "3b22450b",
   "metadata": {},
   "source": [
    "Explicação do gráfico....."
   ]
  }
 ],
 "metadata": {
  "kernelspec": {
   "display_name": "Python 3 (ipykernel)",
   "language": "python",
   "name": "python3"
  },
  "language_info": {
   "codemirror_mode": {
    "name": "ipython",
    "version": 3
   },
   "file_extension": ".py",
   "mimetype": "text/x-python",
   "name": "python",
   "nbconvert_exporter": "python",
   "pygments_lexer": "ipython3",
   "version": "3.11.2"
  }
 },
 "nbformat": 4,
 "nbformat_minor": 5
}
