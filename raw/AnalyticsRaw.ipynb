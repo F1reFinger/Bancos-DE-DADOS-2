{
 "cells": [
  {
   "cell_type": "code",
   "execution_count": null,
   "id": "59003e7b-5f2a-4ef1-b62f-648bfb2b42dc",
   "metadata": {
    "scrolled": true
   },
   "outputs": [
    {
     "name": "stdout",
     "output_type": "stream",
     "text": [
      "Index(['pokedex_number', 'pokemon_name', 'type_1', 'type_2', 'ability_1',\n",
      "       'ability_2', 'ability_3', 'number_pokemon_with_typing', 'primary_color',\n",
      "       'shape', 'height', 'weight', 'bmi', 'hit_points', 'attack', 'defense',\n",
      "       'special_attack', 'special_defense', 'speed', 'total_stats', 'mean',\n",
      "       'standard_deviation', 'capture_rate', 'generation', 'base_happiness',\n",
      "       'base_experience', 'exp_type', 'exp_to_level_100', 'can_evolve',\n",
      "       'evolves_from', 'final_evolution', 'mega_evolution', 'is_default',\n",
      "       'baby_pokemon', 'alolan_form', 'galarian_form', 'forms_switchable',\n",
      "       'legendary', 'mythical', 'genderless', 'female_rate', 'genus',\n",
      "       'egg_group_1', 'egg_group_2', 'egg_cycles', 'against_normal',\n",
      "       'against_fire', 'against_water', 'against_electric', 'against_grass',\n",
      "       'against_ice', 'against_fighting', 'against_poison', 'against_ground',\n",
      "       'against_flying', 'against_psychic', 'against_bug', 'against_rock',\n",
      "       'against_ghost', 'against_dragon', 'against_dark', 'against_steel',\n",
      "       'against_fairy'],\n",
      "      dtype='object')\n",
      "   pokedex_number   pokemon_name type_1  type_2  ability_1    ability_2  \\\n",
      "0               1      Bulbasaur  Grass  Poison   Overgrow  Chlorophyll   \n",
      "1               2        Ivysaur  Grass  Poison   Overgrow  Chlorophyll   \n",
      "2               3  Mega Venusaur  Grass  Poison  Thick Fat          NaN   \n",
      "3               3       Venusaur  Grass  Poison   Overgrow  Chlorophyll   \n",
      "4               3  Venusaur Gmax  Grass  Poison   Overgrow  Chlorophyll   \n",
      "\n",
      "  ability_3  number_pokemon_with_typing primary_color      shape  height  \\\n",
      "0       NaN                          15         Green  Quadruped     0.7   \n",
      "1       NaN                          15         Green  Quadruped     1.0   \n",
      "2       NaN                          15         Green  Quadruped     2.4   \n",
      "3       NaN                          15         Green  Quadruped     2.0   \n",
      "4       NaN                          15         Green  Quadruped    24.0   \n",
      "\n",
      "    weight   bmi  hit_points  attack  defense  special_attack  \\\n",
      "0      6.9  14.1          45      49       49              65   \n",
      "1     13.0  13.0          60      62       63              80   \n",
      "2    155.5  27.0          80     100      123             122   \n",
      "3    100.0  25.0          80      82       83             100   \n",
      "4  10000.0  17.4          80      82       83             100   \n",
      "\n",
      "   special_defense  speed  total_stats    mean  standard_deviation  \\\n",
      "0               65     45          318   53.00                8.64   \n",
      "1               80     60          405   67.50                8.90   \n",
      "2              120     80          625  104.17               18.75   \n",
      "3              100     80          525   87.50                8.90   \n",
      "4              100     80          525   87.50                8.90   \n",
      "\n",
      "   capture_rate  generation  base_happiness  base_experience     exp_type  \\\n",
      "0            45           1              70               64  Medium Slow   \n",
      "1            45           1              70              142  Medium Slow   \n",
      "2            45           6              70              281  Medium Slow   \n",
      "3            45           1              70              236  Medium Slow   \n",
      "4            45           8              70              236  Medium Slow   \n",
      "\n",
      "   exp_to_level_100  can_evolve evolves_from  final_evolution  mega_evolution  \\\n",
      "0           1059860        True          NaN            False           False   \n",
      "1           1059860        True    Bulbasaur            False           False   \n",
      "2           1059860       False      Ivysaur             True            True   \n",
      "3           1059860       False      Ivysaur             True           False   \n",
      "4           1059860       False      Ivysaur            False           False   \n",
      "\n",
      "   is_default  baby_pokemon  alolan_form  galarian_form  forms_switchable  \\\n",
      "0        True         False        False          False             False   \n",
      "1        True         False        False          False             False   \n",
      "2       False         False        False          False              True   \n",
      "3        True         False        False          False              True   \n",
      "4       False         False        False          False              True   \n",
      "\n",
      "   legendary  mythical  genderless  female_rate  genus egg_group_1  \\\n",
      "0      False     False       False        0.125  Seed      Monster   \n",
      "1      False     False       False        0.125  Seed      Monster   \n",
      "2      False     False       False        0.125  Seed      Monster   \n",
      "3      False     False       False        0.125  Seed      Monster   \n",
      "4      False     False       False        0.125  Seed      Monster   \n",
      "\n",
      "  egg_group_2  egg_cycles  against_normal  against_fire  against_water  \\\n",
      "0       Grass          20             1.0           2.0            0.5   \n",
      "1       Grass          20             1.0           2.0            0.5   \n",
      "2       Grass          20             1.0           2.0            0.5   \n",
      "3       Grass          20             1.0           2.0            0.5   \n",
      "4       Grass          20             1.0           2.0            0.5   \n",
      "\n",
      "   against_electric  against_grass  against_ice  against_fighting  \\\n",
      "0               0.5           0.25          2.0               0.5   \n",
      "1               0.5           0.25          2.0               0.5   \n",
      "2               0.5           0.25          2.0               0.5   \n",
      "3               0.5           0.25          2.0               0.5   \n",
      "4               0.5           0.25          2.0               0.5   \n",
      "\n",
      "   against_poison  against_ground  against_flying  against_psychic  \\\n",
      "0             1.0             1.0             2.0              2.0   \n",
      "1             1.0             1.0             2.0              2.0   \n",
      "2             1.0             1.0             2.0              2.0   \n",
      "3             1.0             1.0             2.0              2.0   \n",
      "4             1.0             1.0             2.0              2.0   \n",
      "\n",
      "   against_bug  against_rock  against_ghost  against_dragon  against_dark  \\\n",
      "0          1.0           1.0            1.0             1.0           1.0   \n",
      "1          1.0           1.0            1.0             1.0           1.0   \n",
      "2          1.0           1.0            1.0             1.0           1.0   \n",
      "3          1.0           1.0            1.0             1.0           1.0   \n",
      "4          1.0           1.0            1.0             1.0           1.0   \n",
      "\n",
      "   against_steel  against_fairy  \n",
      "0            1.0            0.5  \n",
      "1            1.0            0.5  \n",
      "2            1.0            0.5  \n",
      "3            1.0            0.5  \n",
      "4            1.0            0.5  \n"
     ]
    }
   ],
   "source": [
    "import pandas as pd\n",
    "df.columns\n",
    "print(df.head())"
   ]
  },
  {
   "cell_type": "code",
   "execution_count": null,
   "id": "91955a67-bbf8-4c70-994d-da40b5b30572",
   "metadata": {
    "scrolled": true
   },
   "outputs": [
    {
     "name": "stdout",
     "output_type": "stream",
     "text": [
      "_______________________________________\n",
      " \n",
      "ANALYTICS DA BASE DE DADOS\n",
      "_______________________________________\n",
      " \n",
      "Total de linhas da base de dados: 1118\n",
      "---------------------------------------\n",
      "Total de colunas: 63\n",
      "---------------------------------------\n",
      " \n"
     ]
    }
   ],
   "source": [
    "import pandas as pd\n",
    "pd.set_option('display.max_columns', None)\n",
    "\n",
    "print(\"_______________________________________\")\n",
    "print(\" \")\n",
    "print(\"ANALYTICS DA BASE DE DADOS\")\n",
    "print(\"_______________________________________\")\n",
    "print(\" \")\n",
    "print(\"Total de linhas da base de dados:\", len(df))\n",
    "print(\"---------------------------------------\")\n",
    "print(\"Total de colunas:\", len(df.columns)) \n",
    "print(\"---------------------------------------\")\n",
    "print(\" \")\n"
   ]
  },
  {
   "cell_type": "code",
   "execution_count": 44,
   "id": "627aa41e-0d1b-4bf2-a9f3-81faa40a7417",
   "metadata": {},
   "outputs": [
    {
     "name": "stdout",
     "output_type": "stream",
     "text": [
      "Requirement already satisfied: findspark in c:\\users\\m4dud\\appdata\\local\\programs\\python\\python311\\lib\\site-packages (2.0.1)\n"
     ]
    },
    {
     "name": "stderr",
     "output_type": "stream",
     "text": [
      "\n",
      "[notice] A new release of pip available: 22.3.1 -> 25.2\n",
      "[notice] To update, run: python.exe -m pip install --upgrade pip\n"
     ]
    },
    {
     "ename": "ModuleNotFoundError",
     "evalue": "No module named 'pyspark'",
     "output_type": "error",
     "traceback": [
      "\u001b[31m---------------------------------------------------------------------------\u001b[39m",
      "\u001b[31mModuleNotFoundError\u001b[39m                       Traceback (most recent call last)",
      "\u001b[36mCell\u001b[39m\u001b[36m \u001b[39m\u001b[32mIn[44]\u001b[39m\u001b[32m, line 4\u001b[39m\n\u001b[32m      1\u001b[39m get_ipython().system(\u001b[33m'\u001b[39m\u001b[33mpip install findspark\u001b[39m\u001b[33m'\u001b[39m)\n\u001b[32m      3\u001b[39m \u001b[38;5;66;03m# Testando o pyspark\u001b[39;00m\n\u001b[32m----> \u001b[39m\u001b[32m4\u001b[39m \u001b[38;5;28;01mfrom\u001b[39;00m\u001b[38;5;250m \u001b[39m\u001b[34;01mpyspark\u001b[39;00m\u001b[34;01m.\u001b[39;00m\u001b[34;01msql\u001b[39;00m\u001b[38;5;250m \u001b[39m\u001b[38;5;28;01mimport\u001b[39;00m SparkSession\n\u001b[32m      6\u001b[39m spark = SparkSession.builder.getOrCreate()\n\u001b[32m      8\u001b[39m \u001b[38;5;66;03m# header=True ativa que a primeira linha é nome das colunas, inferSchema=True os dados ficam no tipo que são \u001b[39;00m\n",
      "\u001b[31mModuleNotFoundError\u001b[39m: No module named 'pyspark'"
     ]
    }
   ],
   "source": [
    "!pip install findspark\n",
    "\n",
    "# Testando o pyspark\n",
    "from pyspark.sql import SparkSession\n",
    "\n",
    "spark = SparkSession.builder.getOrCreate()\n",
    "\n",
    "# header=True ativa que a primeira linha é nome das colunas, inferSchema=True os dados ficam no tipo que são \n",
    "df = spark.read.csv(\"raw/Complete Pokedex V1.1.csv\", header=True, inferSchema=True)\n",
    "\n",
    "df.show(50)"
   ]
  },
  {
   "cell_type": "code",
   "execution_count": null,
   "id": "33c19b3b-5798-4bbf-9cb2-cd211495319b",
   "metadata": {},
   "outputs": [],
   "source": []
  }
 ],
 "metadata": {
  "kernelspec": {
   "display_name": "Python 3",
   "language": "python",
   "name": "python3"
  },
  "language_info": {
   "codemirror_mode": {
    "name": "ipython",
    "version": 3
   },
   "file_extension": ".py",
   "mimetype": "text/x-python",
   "name": "python",
   "nbconvert_exporter": "python",
   "pygments_lexer": "ipython3",
   "version": "3.11.2"
  }
 },
 "nbformat": 4,
 "nbformat_minor": 5
}
