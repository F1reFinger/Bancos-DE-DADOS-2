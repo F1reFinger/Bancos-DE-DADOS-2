{
 "cells": [
  {
   "cell_type": "markdown",
   "id": "4f9a601f",
   "metadata": {},
   "source": [
    "# Job ETL"
   ]
  },
  {
   "cell_type": "markdown",
   "id": "f693c327",
   "metadata": {},
   "source": [
    "Neste notebook, é aplicado o Job ETL. Ele é um processo que extrai, transforma e carrega dados de diferentes fontes para um destino central. Ele organiza e prepara os dados para que possam ser usados em análises ou relatórios. No caso desse projeto, a fonte será do arquivo Complete_Pokedex_V1.1.csv e o resultado será utilizado na camada gold."
   ]
  },
  {
   "cell_type": "code",
   "execution_count": null,
   "id": "11ba9077",
   "metadata": {},
   "outputs": [],
   "source": [
    "import pandas as pd\n",
    "\n",
    "#=========EXTRAÇÃO==========\n",
    "dataFrame = pd.read_csv('../raw/Complete_Pokedex_V1.1.csv') \n",
    "\n",
    "#=========TRANSFORMAÇÃO==========\n",
    "\n",
    "\n",
    "\n",
    "\n",
    "\n",
    "\n",
    "#=========LOAD==========\n",
    "\n"
   ]
  }
 ],
 "metadata": {
  "kernelspec": {
   "display_name": "Python 3",
   "language": "python",
   "name": "python3"
  },
  "language_info": {
   "codemirror_mode": {
    "name": "ipython",
    "version": 3
   },
   "file_extension": ".py",
   "mimetype": "text/x-python",
   "name": "python",
   "nbconvert_exporter": "python",
   "pygments_lexer": "ipython3",
   "version": "3.11.2"
  }
 },
 "nbformat": 4,
 "nbformat_minor": 5
}
